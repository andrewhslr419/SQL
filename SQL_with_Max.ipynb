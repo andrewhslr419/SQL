{
  "nbformat": 4,
  "nbformat_minor": 0,
  "metadata": {
    "colab": {
      "name": "SQL with Max",
      "provenance": [],
      "authorship_tag": "ABX9TyNpqStM4jn98gutbYjk9DDb",
      "include_colab_link": true
    },
    "kernelspec": {
      "name": "python3",
      "display_name": "Python 3"
    }
  },
  "cells": [
    {
      "cell_type": "markdown",
      "metadata": {
        "id": "view-in-github",
        "colab_type": "text"
      },
      "source": [
        "<a href=\"https://colab.research.google.com/github/andrewhslr419/SQL/blob/master/SQL_with_Max.ipynb\" target=\"_parent\"><img src=\"https://colab.research.google.com/assets/colab-badge.svg\" alt=\"Open In Colab\"/></a>"
      ]
    },
    {
      "cell_type": "code",
      "metadata": {
        "id": "khvSgs9WpXFs",
        "colab_type": "code",
        "colab": {}
      },
      "source": [
        "import sql\n",
        "import psycopg2\n",
        "#interger\n",
        "#real = float\n",
        "#text = string\n",
        "#null \n",
        "#date\n",
        "#datetime\n",
        "#blob - can be anything"
      ],
      "execution_count": 0,
      "outputs": []
    },
    {
      "cell_type": "code",
      "metadata": {
        "id": "sDEIxdsuN5Ir",
        "colab_type": "code",
        "colab": {}
      },
      "source": [
        "import sqlite3\n",
        "\n",
        "conn = sqlite3.connect('Training.db')\n",
        "\n",
        "c = conn.cursor()\n",
        "\n",
        "conn.commit()\n",
        "\n",
        "c.close()\n",
        "conn.close()\n"
      ],
      "execution_count": 0,
      "outputs": []
    },
    {
      "cell_type": "code",
      "metadata": {
        "id": "Cq_ZNqPQO3_F",
        "colab_type": "code",
        "colab": {}
      },
      "source": [
        "'''creating and moving tables'''\n",
        "conn = sqlite3.connect('Training.db')\n",
        "\n",
        "c = conn.cursor()\n",
        "\n",
        "# c.execute('CREATE TABLE tablename(column1name datatype'+\n",
        "#           'PRIMARY KEY, column2name datatype)')\n",
        "\n",
        "# c.execute(('CREATE TABLE IF NOT EXISTS '+\n",
        "#            'ebayBids(transactionID INT'+\n",
        "#            'PRIMARY KEY, auctionID INT, bid REAL, bidtime REAL'+\n",
        "#            'bidder INT)'))\n",
        "\n",
        "c.execute('DROP TABLE ebayBids')\n",
        "\n",
        "conn.commit()\n",
        "\n",
        "c.close()\n",
        "conn.close()"
      ],
      "execution_count": 0,
      "outputs": []
    },
    {
      "cell_type": "code",
      "metadata": {
        "id": "GdadvovvSjuU",
        "colab_type": "code",
        "outputId": "d0ec2de0-5524-4229-b12a-633978616ee9",
        "colab": {
          "base_uri": "https://localhost:8080/",
          "height": 232
        }
      },
      "source": [
        "'''inserting data'''\n",
        "conn = sqlite3.connect('Training.db')\n",
        "\n",
        "c = conn.cursor()\n",
        "\n",
        "values = [(2,1,5.3,0.2,2),\n",
        "          (3,1,6.3,0.5,1)\n",
        "          ]\n",
        "\n",
        "\n",
        "\n",
        "c.executemany('INSERT INTO ebayBids VALUES(?,?,?,?,?)',values)\n",
        "conn.commit()\n",
        "\n",
        "# c.close()\n",
        "# conn.close()"
      ],
      "execution_count": 0,
      "outputs": [
        {
          "output_type": "error",
          "ename": "OperationalError",
          "evalue": "ignored",
          "traceback": [
            "\u001b[0;31m---------------------------------------------------------------------------\u001b[0m",
            "\u001b[0;31mOperationalError\u001b[0m                          Traceback (most recent call last)",
            "\u001b[0;32m<ipython-input-23-3a250b566f74>\u001b[0m in \u001b[0;36m<module>\u001b[0;34m()\u001b[0m\n\u001b[1;32m     10\u001b[0m \u001b[0;34m\u001b[0m\u001b[0m\n\u001b[1;32m     11\u001b[0m \u001b[0;34m\u001b[0m\u001b[0m\n\u001b[0;32m---> 12\u001b[0;31m \u001b[0mc\u001b[0m\u001b[0;34m.\u001b[0m\u001b[0mexecutemany\u001b[0m\u001b[0;34m(\u001b[0m\u001b[0;34m'INSERT INTO ebayBids VALUES(?,?,?,?,?)'\u001b[0m\u001b[0;34m,\u001b[0m\u001b[0mvalues\u001b[0m\u001b[0;34m)\u001b[0m\u001b[0;34m\u001b[0m\u001b[0;34m\u001b[0m\u001b[0m\n\u001b[0m\u001b[1;32m     13\u001b[0m \u001b[0mconn\u001b[0m\u001b[0;34m.\u001b[0m\u001b[0mcommit\u001b[0m\u001b[0;34m(\u001b[0m\u001b[0;34m)\u001b[0m\u001b[0;34m\u001b[0m\u001b[0;34m\u001b[0m\u001b[0m\n\u001b[1;32m     14\u001b[0m \u001b[0;34m\u001b[0m\u001b[0m\n",
            "\u001b[0;31mOperationalError\u001b[0m: no such table: ebayBids"
          ]
        }
      ]
    },
    {
      "cell_type": "code",
      "metadata": {
        "id": "ojmNDsNQUVFV",
        "colab_type": "code",
        "colab": {}
      },
      "source": [
        "'''read data'''\n",
        "c.execute('SELECT bid,bidtime FROM ebayBids')\n",
        "#fetch results 1 at a time\n",
        "# result = c.fetchone()\n",
        "# print(result)\n",
        "\n",
        "#fetch next in line\n",
        "# result = c.fetchone()\n",
        "# print(result)\n",
        "\n",
        "#get multipule rows\n",
        "# result = c.fetchmany(size=2)\n",
        "# print(result)\n",
        "\n",
        "#get everything\n",
        "# result = c.fetchall()\n",
        "# print(result)\n",
        "\n",
        "\n",
        "conn.commit()"
      ],
      "execution_count": 0,
      "outputs": []
    },
    {
      "cell_type": "code",
      "metadata": {
        "id": "vo643DxSWi89",
        "colab_type": "code",
        "colab": {}
      },
      "source": [
        "import sqlite3\n",
        "import pandas as pd\n",
        "\n",
        "conn = sqlite3.connect(\"Training.db\")\n",
        "c = conn.cursor()\n",
        "\n",
        "#1. Remove the old ebayBids table.\n",
        "#Note: You can check if the table exists by using the \n",
        "#IF EXISTS statement in a similar way to how we did it \n",
        "#for creating a new table\n",
        "\n",
        "#c.execute(\"DROP TABLE IF EXISTS ebayBids\")\n",
        "\n",
        "#2. Load the data from ebayBids.csv and put it into a fresh \n",
        "#ebayBids table.\n",
        "\n",
        "def processCSV(fileName):\n",
        "    df = pd.read_csv(fileName)\n",
        "    \n",
        "    data = []\n",
        "#    columns = [\"auctionid\",'bid',\"bidtime\",\"bidder\"]\n",
        "    tId = 1\n",
        "    for index,row in df.iterrows():\n",
        "        \n",
        "        acId = row[\"auctionid\"]\n",
        "        bid =  row[\"bid\"]\n",
        "        bidtime = row[\"bidtime\"]\n",
        "        bidder = row[\"bidder\"]\n",
        "        \n",
        "        data.append((tId,acId,bid,bidtime,bidder))\n",
        "        tId += 1\n",
        "        \n",
        "    return data\n",
        "        \n",
        "\n",
        "# c.execute((\"CREATE TABLE IF NOT EXISTS ebayBids(transactionID INT\"+\n",
        "#             \" PRIMARY KEY, auctionid INT, bid REAL, \"+\n",
        "#             \"bidtime REAL, bidder INT)\"))\n",
        "\n",
        "# ebayBidsData = processCSV(\"ebayBids.csv\")\n",
        "#\n",
        "#c.executemany(\"INSERT INTO ebayBids VALUES (?,?,?,?,?)\",ebayBidsData)\n",
        "\n",
        "#3. Load the data from ebayAuctions.csv and put it into the \n",
        "#ebayAuctions table.\n",
        "\n",
        "# df = pd.read_csv('ebayAuctions.csv')\n",
        "# df.head(5)\n",
        "\n",
        "def processAuctionCSV():\n",
        "  df = pd.read_csv('ebayAuctions.csv')\n",
        "  data = []\n",
        "\n",
        "  for index,rows in df.iterrows():\n",
        "    auctionID = row['auctionid']\n",
        "    openbid = row['openbid']\n",
        "    price = row['price']\n",
        "    data.append((auctionid,openbid,price))\n",
        "\n",
        "  return data\n",
        "\n",
        "c.execute(('CREATE TABLE IF NOT EXISTS ebayAuctions(auctionID INT)'+\n",
        "           'PRIMARY KEY, openbid REAL, price REAL)'))\n",
        "\n",
        "\n",
        "conn.commit()\n",
        "\n",
        "c.close()\n",
        "conn.close()"
      ],
      "execution_count": 0,
      "outputs": []
    },
    {
      "cell_type": "code",
      "metadata": {
        "id": "kC-z08nZaTxg",
        "colab_type": "code",
        "outputId": "ad7fe396-1348-44d8-8129-c4fa09b6ff19",
        "colab": {
          "base_uri": "https://localhost:8080/",
          "height": 34
        }
      },
      "source": [
        "conn = sqlite3.connect(\"Training.db\")\n",
        "c = conn.cursor()\n",
        "\n",
        "#1. Ensure the data in each got loaded in correctly by viewing the data in the DB viewer.\n",
        "# df = pd.read_csv('ebayBids.csv')\n",
        "# print(len(df['auctionid']))\n",
        "# df = pd.read_csv('ebayAuctions.csv')\n",
        "# print(len(df['auctionid']))\n",
        "\n",
        "#2. Select the first 5 rows of each DB and compare your result to the first 5 rows in each table.\n",
        "\n",
        "df = pd.read_csv('ebayAuctions.csv')\n",
        "df.head()\n",
        "c.execute('SELECT * from ebayAuctions LIMIT 5')\n",
        "print(c.fetchall())\n",
        "\n",
        "df = pd.read_csv('ebayBids.csv')\n",
        "df.head()\n",
        "c.execute('SELECT * from ebayBids LIMIT 5')\n",
        "print(c.fetchall())\n",
        "\n",
        "#3. In the DB viewer navigate to the ‘Execute SQL’ tab and perform the same \n",
        "#reading of the first 5 rows from each table. Make sure all of your results align.\n",
        "\n",
        "'''in the viewer'''\n",
        "#SELECT * FROM ebayBids LIMIT 5\n"
      ],
      "execution_count": 0,
      "outputs": [
        {
          "output_type": "stream",
          "text": [
            "[]\n"
          ],
          "name": "stdout"
        }
      ]
    },
    {
      "cell_type": "code",
      "metadata": {
        "id": "0I1xqWLve0qq",
        "colab_type": "code",
        "colab": {}
      },
      "source": [
        "'''In this exercise we’re going to practice understanding a new database,\n",
        " since we may not always be the creator of the database.'''\n",
        "import sqlite3\n",
        "conn = sqlite3.connect(\"Training.db\")\n",
        "c = conn.cursor()\n",
        "#1. Load the variable.db database into the DB browser. By using the schema\n",
        "#understand what each value should look like and then insert 2 custom rows into the table.\n",
        "\n",
        "# eventKEY, userId, eventId, eventName, time\n",
        "# INT,       INT,    INT,     TEXT,      REAL\n",
        "\n",
        "data = [(1,1,1,'Login',123.456),\n",
        "        (2,2,1,'Login',123,556)\n",
        "        ]\n",
        "\n",
        "c.executemany('INSERT INTO userData VALUES (?,?,?,?,?)',data)\n",
        "\n",
        "\n",
        "conn.commit()\n",
        "c.close()\n",
        "conn.close()"
      ],
      "execution_count": 0,
      "outputs": []
    },
    {
      "cell_type": "code",
      "metadata": {
        "id": "4_MZJ9DHg0YR",
        "colab_type": "code",
        "outputId": "577def38-72a8-4740-ff67-1bf576fd43f8",
        "colab": {
          "base_uri": "https://localhost:8080/",
          "height": 232
        }
      },
      "source": [
        "'''aliasing and ordering'''\n",
        "import sqlite3\n",
        "conn = sqlite3.connect(\"Training.db\")\n",
        "c = conn.cursor()\n",
        "\n",
        "c.execute(('SELECT eb.bidtime AS bt,'+\n",
        "          ' eb.transactionID AS tID,'+\n",
        "          ' FROM ebayBids AS eb ',+\n",
        "          ' ORDER BY tID DESC ,bt'\n",
        "          ' LIMIT 5'))\n",
        "\n",
        "\n",
        "columns = [x[0] for x in c.description]\n",
        "print(columns)\n",
        "print(c.description)\n",
        "results = c.fetchall()\n",
        "print(results)\n",
        "conn.commit()\n",
        "\n",
        "\n",
        "\n",
        "\n",
        "c.close()\n",
        "conn.close()\n"
      ],
      "execution_count": 0,
      "outputs": [
        {
          "output_type": "error",
          "ename": "OperationalError",
          "evalue": "ignored",
          "traceback": [
            "\u001b[0;31m---------------------------------------------------------------------------\u001b[0m",
            "\u001b[0;31mOperationalError\u001b[0m                          Traceback (most recent call last)",
            "\u001b[0;32m<ipython-input-16-ab8c21383ed4>\u001b[0m in \u001b[0;36m<module>\u001b[0;34m()\u001b[0m\n\u001b[1;32m      5\u001b[0m \u001b[0;34m\u001b[0m\u001b[0m\n\u001b[1;32m      6\u001b[0m c.execute(('SELECT bidtime AS bt,'+\n\u001b[0;32m----> 7\u001b[0;31m           ' FROM ebayBids LIMIT 5'))\n\u001b[0m\u001b[1;32m      8\u001b[0m \u001b[0mcolumns\u001b[0m \u001b[0;34m=\u001b[0m \u001b[0;34m[\u001b[0m\u001b[0mx\u001b[0m\u001b[0;34m[\u001b[0m\u001b[0;36m0\u001b[0m\u001b[0;34m]\u001b[0m \u001b[0;32mfor\u001b[0m \u001b[0mx\u001b[0m \u001b[0;32min\u001b[0m \u001b[0mc\u001b[0m\u001b[0;34m.\u001b[0m\u001b[0mdescription\u001b[0m\u001b[0;34m]\u001b[0m\u001b[0;34m\u001b[0m\u001b[0;34m\u001b[0m\u001b[0m\n\u001b[1;32m      9\u001b[0m \u001b[0mprint\u001b[0m\u001b[0;34m(\u001b[0m\u001b[0mcolumns\u001b[0m\u001b[0;34m)\u001b[0m\u001b[0;34m\u001b[0m\u001b[0;34m\u001b[0m\u001b[0m\n",
            "\u001b[0;31mOperationalError\u001b[0m: near \"FROM\": syntax error"
          ]
        }
      ]
    }
  ]
}